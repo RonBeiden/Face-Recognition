{
 "cells": [
  {
   "cell_type": "code",
   "execution_count": 13,
   "metadata": {},
   "outputs": [
    {
     "name": "stdout",
     "output_type": "stream",
     "text": [
      "25-05-25 17:07:28 - deepid_keras_weights.h5 will be downloaded...\n"
     ]
    },
    {
     "name": "stderr",
     "output_type": "stream",
     "text": [
      "Downloading...\n",
      "From: https://github.com/serengil/deepface_models/releases/download/v1.0/deepid_keras_weights.h5\n",
      "To: C:\\Users\\BeRo074\\.deepface\\weights\\deepid_keras_weights.h5\n",
      "100%|██████████| 1.61M/1.61M [00:00<00:00, 2.33MB/s]\n"
     ]
    },
    {
     "name": "stdout",
     "output_type": "stream",
     "text": [
      "{'verified': False, 'distance': 0.11672733622026787, 'threshold': 0.015, 'model': 'DeepID', 'detector_backend': 'opencv', 'similarity_metric': 'cosine', 'facial_areas': {'img1': {'x': 300, 'y': 239, 'w': 560, 'h': 560, 'left_eye': (676, 461), 'right_eye': (485, 452)}, 'img2': {'x': 34, 'y': 516, 'w': 657, 'h': 657, 'left_eye': None, 'right_eye': None}}, 'time': 3.08}\n"
     ]
    }
   ],
   "source": [
    "from deepface import DeepFace\n",
    "\n",
    "result = DeepFace.verify(\"img1.jpg\", \"img4.jpg\", model_name=\"DeepID\")\n",
    "print(result)\n"
   ]
  }
 ],
 "metadata": {
  "kernelspec": {
   "display_name": "venv",
   "language": "python",
   "name": "python3"
  },
  "language_info": {
   "codemirror_mode": {
    "name": "ipython",
    "version": 3
   },
   "file_extension": ".py",
   "mimetype": "text/x-python",
   "name": "python",
   "nbconvert_exporter": "python",
   "pygments_lexer": "ipython3",
   "version": "3.10.0rc2"
  }
 },
 "nbformat": 4,
 "nbformat_minor": 2
}
